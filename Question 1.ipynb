{
 "cells": [
  {
   "cell_type": "code",
   "execution_count": 2,
   "id": "eae27da4",
   "metadata": {},
   "outputs": [
    {
     "name": "stdout",
     "output_type": "stream",
     "text": [
      "Twinkle, Twinkle, Little Star,\n",
      "\tHow I Wonder What You Are!\n",
      "\t\tUp above the world so high,\n",
      "\t\tLike a diamond in the sky.\n",
      "Twinkle, Twinkle, Little Star,\n",
      "\tHow I Wonder What You Are!\n"
     ]
    }
   ],
   "source": [
    "print (\"Twinkle, Twinkle, Little Star,\")\n",
    "print (\"\\tHow I Wonder What You Are!\")\n",
    "print(\"\\t\\tUp above the world so high,\")\n",
    "print(\"\\t\\tLike a diamond in the sky.\")\n",
    "print (\"Twinkle, Twinkle, Little Star,\")\n",
    "print (\"\\tHow I Wonder What You Are!\")"
   ]
  },
  {
   "cell_type": "code",
   "execution_count": null,
   "id": "583bc466",
   "metadata": {},
   "outputs": [],
   "source": []
  }
 ],
 "metadata": {
  "kernelspec": {
   "display_name": "Python 3 (ipykernel)",
   "language": "python",
   "name": "python3"
  },
  "language_info": {
   "codemirror_mode": {
    "name": "ipython",
    "version": 3
   },
   "file_extension": ".py",
   "mimetype": "text/x-python",
   "name": "python",
   "nbconvert_exporter": "python",
   "pygments_lexer": "ipython3",
   "version": "3.9.7"
  }
 },
 "nbformat": 4,
 "nbformat_minor": 5
}
