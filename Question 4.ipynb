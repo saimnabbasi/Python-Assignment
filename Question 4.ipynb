{
 "cells": [
  {
   "cell_type": "code",
   "execution_count": 5,
   "id": "fbb9e821",
   "metadata": {},
   "outputs": [
    {
     "name": "stdout",
     "output_type": "stream",
     "text": [
      "Please enter radius of the circle\n",
      "10\n",
      "Area of the circle with radius  10.0  is:  314.0\n"
     ]
    }
   ],
   "source": [
    "#This program takes a radius from user and calculates the area of circle\n",
    "\n",
    "#First, we take input from the user\n",
    "radius = float(input(\"Please enter radius of the circle\\n\"))\n",
    "\n",
    "#Now, we will compute the area of circle\n",
    "area = 3.14*(radius*radius)\n",
    "print (\"Area of the circle with radius \", radius , \" is: \", area )"
   ]
  },
  {
   "cell_type": "code",
   "execution_count": null,
   "id": "2e5c9173",
   "metadata": {},
   "outputs": [],
   "source": []
  }
 ],
 "metadata": {
  "kernelspec": {
   "display_name": "Python 3 (ipykernel)",
   "language": "python",
   "name": "python3"
  },
  "language_info": {
   "codemirror_mode": {
    "name": "ipython",
    "version": 3
   },
   "file_extension": ".py",
   "mimetype": "text/x-python",
   "name": "python",
   "nbconvert_exporter": "python",
   "pygments_lexer": "ipython3",
   "version": "3.9.7"
  }
 },
 "nbformat": 4,
 "nbformat_minor": 5
}
