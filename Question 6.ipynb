{
 "cells": [
  {
   "cell_type": "code",
   "execution_count": 3,
   "id": "b98035ea",
   "metadata": {},
   "outputs": [
    {
     "name": "stdout",
     "output_type": "stream",
     "text": [
      "Please enter first integer: 10\n",
      "Please enter second integer: 5\n",
      "Sum of the two integers is:  15\n"
     ]
    }
   ],
   "source": [
    "#This program takes input from user and performs addition on them\n",
    "\n",
    "#Taking input from user\n",
    "num1 = int(input(\"Please enter first integer: \"))\n",
    "num2 = int(input(\"Please enter second integer: \"))\n",
    "\n",
    "#Displaying the output\n",
    "print (\"Sum of the two integers is: \", num1 + num2)"
   ]
  },
  {
   "cell_type": "code",
   "execution_count": null,
   "id": "6148c7c5",
   "metadata": {},
   "outputs": [],
   "source": []
  }
 ],
 "metadata": {
  "kernelspec": {
   "display_name": "Python 3 (ipykernel)",
   "language": "python",
   "name": "python3"
  },
  "language_info": {
   "codemirror_mode": {
    "name": "ipython",
    "version": 3
   },
   "file_extension": ".py",
   "mimetype": "text/x-python",
   "name": "python",
   "nbconvert_exporter": "python",
   "pygments_lexer": "ipython3",
   "version": "3.9.7"
  }
 },
 "nbformat": 4,
 "nbformat_minor": 5
}
