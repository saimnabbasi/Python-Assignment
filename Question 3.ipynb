{
 "cells": [
  {
   "cell_type": "code",
   "execution_count": 4,
   "id": "d594c33a",
   "metadata": {},
   "outputs": [
    {
     "name": "stdout",
     "output_type": "stream",
     "text": [
      "Current Date and Time is 2021-12-29 00:12:16.613360\n"
     ]
    }
   ],
   "source": [
    "#This program displays the current date and time\n",
    "\n",
    "#First, we will import the date and time\n",
    "from datetime import datetime\n",
    "\n",
    "#Use the datetime object to store current date and time\n",
    "now = datetime.now()\n",
    " \n",
    "#Print the stored date and time    \n",
    "print(\"Current Date and Time is\", now)"
   ]
  }
 ],
 "metadata": {
  "kernelspec": {
   "display_name": "Python 3 (ipykernel)",
   "language": "python",
   "name": "python3"
  },
  "language_info": {
   "codemirror_mode": {
    "name": "ipython",
    "version": 3
   },
   "file_extension": ".py",
   "mimetype": "text/x-python",
   "name": "python",
   "nbconvert_exporter": "python",
   "pygments_lexer": "ipython3",
   "version": "3.9.7"
  }
 },
 "nbformat": 4,
 "nbformat_minor": 5
}
