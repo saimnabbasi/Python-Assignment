{
 "cells": [
  {
   "cell_type": "code",
   "execution_count": 2,
   "id": "e1cff3aa",
   "metadata": {},
   "outputs": [
    {
     "name": "stdout",
     "output_type": "stream",
     "text": [
      "Please enter your first name \n",
      "Saim\n",
      "Please enter your last name \n",
      "Abbasi\n",
      "Your name reversed is:  Abbasi Saim\n"
     ]
    }
   ],
   "source": [
    "#This program takes user's name and prints it in reverse order\n",
    "\n",
    "#Taking the first and last name\n",
    "fName = input(\"Please enter your first name \\n\")\n",
    "lName = input(\"Please enter your last name \\n\")\n",
    "\n",
    "#Displaying the name reversed\n",
    "Name = lName +\" \" + fName\n",
    "print (\"Your name reversed is: \", Name)"
   ]
  },
  {
   "cell_type": "code",
   "execution_count": null,
   "id": "5171291e",
   "metadata": {},
   "outputs": [],
   "source": []
  }
 ],
 "metadata": {
  "kernelspec": {
   "display_name": "Python 3 (ipykernel)",
   "language": "python",
   "name": "python3"
  },
  "language_info": {
   "codemirror_mode": {
    "name": "ipython",
    "version": 3
   },
   "file_extension": ".py",
   "mimetype": "text/x-python",
   "name": "python",
   "nbconvert_exporter": "python",
   "pygments_lexer": "ipython3",
   "version": "3.9.7"
  }
 },
 "nbformat": 4,
 "nbformat_minor": 5
}
